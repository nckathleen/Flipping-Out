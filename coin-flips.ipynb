{
 "cells": [
  {
   "cell_type": "code",
   "execution_count": 1,
   "metadata": {
    "collapsed": false
   },
   "outputs": [],
   "source": [
    "import matplotlib.pyplot as plt\n",
    "from math import *\n",
    "import random\n",
    "import statistics as st"
   ]
  },
  {
   "cell_type": "code",
   "execution_count": 2,
   "metadata": {
    "collapsed": false
   },
   "outputs": [],
   "source": [
    "%matplotlib inline"
   ]
  },
  {
   "cell_type": "code",
   "execution_count": 4,
   "metadata": {
    "collapsed": true
   },
   "outputs": [],
   "source": [
    "def coin_toss(): \n",
    "    flip = random.randint(0, 1)\n",
    "    return flip"
   ]
  },
  {
   "cell_type": "code",
   "execution_count": 29,
   "metadata": {
    "collapsed": false
   },
   "outputs": [
    {
     "data": {
      "text/plain": [
       "1"
      ]
     },
     "execution_count": 29,
     "metadata": {},
     "output_type": "execute_result"
    }
   ],
   "source": [
    "coin_toss()"
   ]
  },
  {
   "cell_type": "code",
   "execution_count": 49,
   "metadata": {
    "collapsed": false
   },
   "outputs": [],
   "source": [
    "def toss_sim(num_flips):  \n",
    "    heads_count = 0\n",
    "    tails_count = 0\n",
    "    data_list = []\n",
    "    for x in range(1,num_flips +1): \n",
    "        result = coin_toss()\n",
    "        if result == 0:\n",
    "            heads_count += 1        \n",
    "        else:\n",
    "            tails_count += 1\n",
    "        if log2(x) % 1 == 0:\n",
    "            data_list.append((heads_count, tails_count))\n",
    "    if sum(data_list[len(data_list) - 1]) != num_flips: \n",
    "        data_list.append((heads_count, tails_count))\n",
    "    return data_list"
   ]
  },
  {
   "cell_type": "code",
   "execution_count": 50,
   "metadata": {
    "collapsed": false,
    "scrolled": true
   },
   "outputs": [
    {
     "name": "stdout",
     "output_type": "stream",
     "text": [
      "[(1, 0), (2, 0), (3, 1), (4, 4), (8, 8), (17, 15), (38, 26), (66, 62), (134, 122), (263, 249), (537, 487), (1012, 1036), (2051, 2045), (4113, 4079), (8224, 8160), (16454, 16314), (33067, 32469)]\n",
      "17\n",
      "[(0, 1), (1, 1), (3, 1), (5, 3), (9, 7), (15, 17), (30, 34), (48, 52)]\n"
     ]
    }
   ],
   "source": [
    "print(toss_sim(2**16))\n",
    "print(len(toss_sim(2**16)))\n",
    "print(toss_sim(100))"
   ]
  },
  {
   "cell_type": "markdown",
   "metadata": {},
   "source": [
    "You can unpack a tuple in a list comprehension\n"
   ]
  },
  {
   "cell_type": "code",
   "execution_count": null,
   "metadata": {
    "collapsed": true
   },
   "outputs": [],
   "source": []
  }
 ],
 "metadata": {
  "kernelspec": {
   "display_name": "Python 3",
   "language": "python",
   "name": "python3"
  },
  "language_info": {
   "codemirror_mode": {
    "name": "ipython",
    "version": 3
   },
   "file_extension": ".py",
   "mimetype": "text/x-python",
   "name": "python",
   "nbconvert_exporter": "python",
   "pygments_lexer": "ipython3",
   "version": "3.4.3"
  }
 },
 "nbformat": 4,
 "nbformat_minor": 0
}
